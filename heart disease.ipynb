{
 "cells": [
  {
   "cell_type": "code",
   "execution_count": 147,
   "metadata": {
    "collapsed": true,
    "pycharm": {
     "is_executing": false
    }
   },
   "outputs": [
    {
     "data": {
      "text/plain": "   age  sex  cp trestbps chol fbs restecg thalach exang  oldpeak slope ca  \\\n0   28    1   2      130  132   0       2     185     0      0.0     ?  ?   \n1   29    1   2      120  243   0       0     160     0      0.0     ?  ?   \n2   29    1   2      140    ?   0       0     170     0      0.0     ?  ?   \n3   30    0   1      170  237   0       1     170     0      0.0     ?  ?   \n4   31    0   2      100  219   0       1     150     0      0.0     ?  ?   \n\n  thal  num  \n0    ?    0  \n1    ?    0  \n2    ?    0  \n3    6    0  \n4    ?    0  ",
      "text/html": "<div>\n<style scoped>\n    .dataframe tbody tr th:only-of-type {\n        vertical-align: middle;\n    }\n\n    .dataframe tbody tr th {\n        vertical-align: top;\n    }\n\n    .dataframe thead th {\n        text-align: right;\n    }\n</style>\n<table border=\"1\" class=\"dataframe\">\n  <thead>\n    <tr style=\"text-align: right;\">\n      <th></th>\n      <th>age</th>\n      <th>sex</th>\n      <th>cp</th>\n      <th>trestbps</th>\n      <th>chol</th>\n      <th>fbs</th>\n      <th>restecg</th>\n      <th>thalach</th>\n      <th>exang</th>\n      <th>oldpeak</th>\n      <th>slope</th>\n      <th>ca</th>\n      <th>thal</th>\n      <th>num</th>\n    </tr>\n  </thead>\n  <tbody>\n    <tr>\n      <th>0</th>\n      <td>28</td>\n      <td>1</td>\n      <td>2</td>\n      <td>130</td>\n      <td>132</td>\n      <td>0</td>\n      <td>2</td>\n      <td>185</td>\n      <td>0</td>\n      <td>0.0</td>\n      <td>?</td>\n      <td>?</td>\n      <td>?</td>\n      <td>0</td>\n    </tr>\n    <tr>\n      <th>1</th>\n      <td>29</td>\n      <td>1</td>\n      <td>2</td>\n      <td>120</td>\n      <td>243</td>\n      <td>0</td>\n      <td>0</td>\n      <td>160</td>\n      <td>0</td>\n      <td>0.0</td>\n      <td>?</td>\n      <td>?</td>\n      <td>?</td>\n      <td>0</td>\n    </tr>\n    <tr>\n      <th>2</th>\n      <td>29</td>\n      <td>1</td>\n      <td>2</td>\n      <td>140</td>\n      <td>?</td>\n      <td>0</td>\n      <td>0</td>\n      <td>170</td>\n      <td>0</td>\n      <td>0.0</td>\n      <td>?</td>\n      <td>?</td>\n      <td>?</td>\n      <td>0</td>\n    </tr>\n    <tr>\n      <th>3</th>\n      <td>30</td>\n      <td>0</td>\n      <td>1</td>\n      <td>170</td>\n      <td>237</td>\n      <td>0</td>\n      <td>1</td>\n      <td>170</td>\n      <td>0</td>\n      <td>0.0</td>\n      <td>?</td>\n      <td>?</td>\n      <td>6</td>\n      <td>0</td>\n    </tr>\n    <tr>\n      <th>4</th>\n      <td>31</td>\n      <td>0</td>\n      <td>2</td>\n      <td>100</td>\n      <td>219</td>\n      <td>0</td>\n      <td>1</td>\n      <td>150</td>\n      <td>0</td>\n      <td>0.0</td>\n      <td>?</td>\n      <td>?</td>\n      <td>?</td>\n      <td>0</td>\n    </tr>\n  </tbody>\n</table>\n</div>"
     },
     "metadata": {},
     "output_type": "execute_result",
     "execution_count": 147
    }
   ],
   "source": [
    "\n",
    "from sklearn import svm, metrics\n",
    "from sklearn.model_selection import train_test_split\n",
    "import pandas as pd\n",
    "import numpy as np\n",
    "\n",
    "data = pd.read_csv(\"processed.hungarian.data\", header=None, names=['age','sex',\"cp\", \"trestbps\", \"chol\", \"fbs\", \n",
    "                                                                   \"restecg\", \"thalach\", \"exang\", \"oldpeak\", \"slope\", \n",
    "                                                                   \"ca\" , \"thal\", \"num\"])\n",
    "\n",
    "data.head()\n",
    "\n"
   ]
  },
  {
   "cell_type": "code",
   "execution_count": 148,
   "outputs": [
    {
     "name": "stdout",
     "text": [
      "[90, 90, 90, 268]\n"
     ],
     "output_type": "stream"
    },
    {
     "data": {
      "text/plain": "   age  sex  cp trestbps restecg thalach exang  oldpeak  num\n0   28    1   2      130       2     185     0      0.0    0\n1   29    1   2      120       0     160     0      0.0    0\n2   29    1   2      140       0     170     0      0.0    0\n3   30    0   1      170       1     170     0      0.0    0\n4   31    0   2      100       1     150     0      0.0    0",
      "text/html": "<div>\n<style scoped>\n    .dataframe tbody tr th:only-of-type {\n        vertical-align: middle;\n    }\n\n    .dataframe tbody tr th {\n        vertical-align: top;\n    }\n\n    .dataframe thead th {\n        text-align: right;\n    }\n</style>\n<table border=\"1\" class=\"dataframe\">\n  <thead>\n    <tr style=\"text-align: right;\">\n      <th></th>\n      <th>age</th>\n      <th>sex</th>\n      <th>cp</th>\n      <th>trestbps</th>\n      <th>restecg</th>\n      <th>thalach</th>\n      <th>exang</th>\n      <th>oldpeak</th>\n      <th>num</th>\n    </tr>\n  </thead>\n  <tbody>\n    <tr>\n      <th>0</th>\n      <td>28</td>\n      <td>1</td>\n      <td>2</td>\n      <td>130</td>\n      <td>2</td>\n      <td>185</td>\n      <td>0</td>\n      <td>0.0</td>\n      <td>0</td>\n    </tr>\n    <tr>\n      <th>1</th>\n      <td>29</td>\n      <td>1</td>\n      <td>2</td>\n      <td>120</td>\n      <td>0</td>\n      <td>160</td>\n      <td>0</td>\n      <td>0.0</td>\n      <td>0</td>\n    </tr>\n    <tr>\n      <th>2</th>\n      <td>29</td>\n      <td>1</td>\n      <td>2</td>\n      <td>140</td>\n      <td>0</td>\n      <td>170</td>\n      <td>0</td>\n      <td>0.0</td>\n      <td>0</td>\n    </tr>\n    <tr>\n      <th>3</th>\n      <td>30</td>\n      <td>0</td>\n      <td>1</td>\n      <td>170</td>\n      <td>1</td>\n      <td>170</td>\n      <td>0</td>\n      <td>0.0</td>\n      <td>0</td>\n    </tr>\n    <tr>\n      <th>4</th>\n      <td>31</td>\n      <td>0</td>\n      <td>2</td>\n      <td>100</td>\n      <td>1</td>\n      <td>150</td>\n      <td>0</td>\n      <td>0.0</td>\n      <td>0</td>\n    </tr>\n  </tbody>\n</table>\n</div>"
     },
     "metadata": {},
     "output_type": "execute_result",
     "execution_count": 148
    }
   ],
   "source": [
    "X_features = data.drop(columns=['thal','ca', 'slope','chol', 'fbs'], axis=1)\n",
    "X_features.head(5)\n",
    "\n",
    "index_list = []\n",
    "\n",
    "for index1,line in enumerate(X_features.values):\n",
    "    for index2, value in enumerate(line):\n",
    "        if value == '?':\n",
    "            index_list.append(index1)\n",
    "\n",
    "print(index_list)\n",
    "X_features = X_features.drop(index=index_list, axis=1)\n",
    "X_features.head()"
   ],
   "metadata": {
    "collapsed": false,
    "pycharm": {
     "name": "#%%\n",
     "is_executing": false
    }
   }
  },
  {
   "cell_type": "code",
   "execution_count": 149,
   "outputs": [
    {
     "data": {
      "text/plain": "0    0\n1    0\n2    0\n3    0\n4    0\nName: num, dtype: int64"
     },
     "metadata": {},
     "output_type": "execute_result",
     "execution_count": 149
    }
   ],
   "source": [
    "Y_Target = X_features['num']\n",
    "\n",
    "Y_Target.head()\n",
    "\n",
    "\n",
    "\n"
   ],
   "metadata": {
    "collapsed": false,
    "pycharm": {
     "name": "#%%\n",
     "is_executing": false
    }
   }
  },
  {
   "cell_type": "code",
   "execution_count": 164,
   "outputs": [
    {
     "name": "stderr",
     "text": [
      "d:\\python\\python37-32\\lib\\site-packages\\ipykernel_launcher.py:2: FutureWarning: Method .as_matrix will be removed in a future version. Use .values instead.\n  \n"
     ],
     "output_type": "stream"
    },
    {
     "data": {
      "text/plain": "SVC(C=1.0, cache_size=200, class_weight=None, coef0=0.0,\n    decision_function_shape='ovr', degree=3, gamma=0.001, kernel='rbf',\n    max_iter=-1, probability=False, random_state=None, shrinking=True,\n    tol=0.001, verbose=False)"
     },
     "metadata": {},
     "output_type": "execute_result",
     "execution_count": 164
    }
   ],
   "source": [
    "X_train, X_test, Y_train, Y_test = train_test_split(X_features.as_matrix(), Y_Target.as_matrix(), test_size=0.1, train_size=0.9, shuffle=True)\n",
    "\n",
    "\n",
    "classifier = svm.SVC(gamma=0.001)\n",
    "classifier.fit(X_train,Y_train)\n"
   ],
   "metadata": {
    "collapsed": false,
    "pycharm": {
     "name": "#%%\n",
     "is_executing": false
    }
   }
  },
  {
   "cell_type": "code",
   "execution_count": 165,
   "outputs": [
    {
     "data": {
      "text/plain": "array([0, 0, 1, 0, 0, 1, 0, 0, 0, 0, 0, 0, 0, 0, 0, 0, 1, 1, 0, 0, 0, 0,\n       0, 1, 0, 1, 0, 0, 0, 0], dtype=int64)"
     },
     "metadata": {},
     "output_type": "execute_result",
     "execution_count": 165
    }
   ],
   "source": [
    "prediction = classifier.predict(X_test)\n",
    "Y_test\n",
    "# print(prediction)\n",
    "# for index, (prediction, Y_test) in enumerate(list(zip(prediction,Y_test))):\n",
    "#     if prediction == Y_test:\n",
    "#         print(f\"Success {index}: Prediction:{prediction} Result:{Y_test}\")\n",
    "#     else:\n",
    "#         print(f\"Failure {index}: Prediction:{prediction} Result:{Y_test}\")\n"
   ],
   "metadata": {
    "collapsed": false,
    "pycharm": {
     "name": "#%%\n",
     "is_executing": false
    }
   }
  },
  {
   "cell_type": "code",
   "execution_count": 171,
   "outputs": [
    {
     "name": "stdout",
     "text": [
      "              precision    recall  f1-score   support\n\n           0       0.79      0.79      0.79        24\n           1       0.17      0.17      0.17         6\n\n    accuracy                           0.67        30\n   macro avg       0.48      0.48      0.48        30\nweighted avg       0.67      0.67      0.67        30\n\nConfusion matrix:\n[[19  5]\n [ 5  1]]\n"
     ],
     "output_type": "stream"
    }
   ],
   "source": [
    "\n",
    "print(metrics.classification_report(prediction, Y_test))\n",
    "print(\"Confusion matrix:\\n%s\" % metrics.confusion_matrix(prediction, Y_test))\n",
    "\n"
   ],
   "metadata": {
    "collapsed": false,
    "pycharm": {
     "name": "#%%\n",
     "is_executing": false
    }
   }
  },
  {
   "cell_type": "code",
   "execution_count": null,
   "outputs": [],
   "source": [
    "\n"
   ],
   "metadata": {
    "collapsed": false,
    "pycharm": {
     "name": "#%%\n"
    }
   }
  }
 ],
 "metadata": {
  "kernelspec": {
   "display_name": "Python 3",
   "language": "python",
   "name": "python3"
  },
  "language_info": {
   "codemirror_mode": {
    "name": "ipython",
    "version": 2
   },
   "file_extension": ".py",
   "mimetype": "text/x-python",
   "name": "python",
   "nbconvert_exporter": "python",
   "pygments_lexer": "ipython2",
   "version": "2.7.6"
  },
  "pycharm": {
   "stem_cell": {
    "cell_type": "raw",
    "source": [],
    "metadata": {
     "collapsed": false
    }
   }
  }
 },
 "nbformat": 4,
 "nbformat_minor": 0
}