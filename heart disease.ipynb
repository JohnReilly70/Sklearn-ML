{
 "cells": [
  {
   "cell_type": "code",
   "execution_count": 172,
   "metadata": {
    "collapsed": true,
    "pycharm": {
     "is_executing": false
    }
   },
   "outputs": [
    {
     "data": {
      "text/plain": "   age  sex  cp trestbps chol fbs restecg thalach exang  oldpeak slope ca  \\\n0   28    1   2      130  132   0       2     185     0      0.0     ?  ?   \n1   29    1   2      120  243   0       0     160     0      0.0     ?  ?   \n2   29    1   2      140    ?   0       0     170     0      0.0     ?  ?   \n3   30    0   1      170  237   0       1     170     0      0.0     ?  ?   \n4   31    0   2      100  219   0       1     150     0      0.0     ?  ?   \n\n  thal  num  \n0    ?    0  \n1    ?    0  \n2    ?    0  \n3    6    0  \n4    ?    0  ",
      "text/html": "<div>\n<style scoped>\n    .dataframe tbody tr th:only-of-type {\n        vertical-align: middle;\n    }\n\n    .dataframe tbody tr th {\n        vertical-align: top;\n    }\n\n    .dataframe thead th {\n        text-align: right;\n    }\n</style>\n<table border=\"1\" class=\"dataframe\">\n  <thead>\n    <tr style=\"text-align: right;\">\n      <th></th>\n      <th>age</th>\n      <th>sex</th>\n      <th>cp</th>\n      <th>trestbps</th>\n      <th>chol</th>\n      <th>fbs</th>\n      <th>restecg</th>\n      <th>thalach</th>\n      <th>exang</th>\n      <th>oldpeak</th>\n      <th>slope</th>\n      <th>ca</th>\n      <th>thal</th>\n      <th>num</th>\n    </tr>\n  </thead>\n  <tbody>\n    <tr>\n      <th>0</th>\n      <td>28</td>\n      <td>1</td>\n      <td>2</td>\n      <td>130</td>\n      <td>132</td>\n      <td>0</td>\n      <td>2</td>\n      <td>185</td>\n      <td>0</td>\n      <td>0.0</td>\n      <td>?</td>\n      <td>?</td>\n      <td>?</td>\n      <td>0</td>\n    </tr>\n    <tr>\n      <th>1</th>\n      <td>29</td>\n      <td>1</td>\n      <td>2</td>\n      <td>120</td>\n      <td>243</td>\n      <td>0</td>\n      <td>0</td>\n      <td>160</td>\n      <td>0</td>\n      <td>0.0</td>\n      <td>?</td>\n      <td>?</td>\n      <td>?</td>\n      <td>0</td>\n    </tr>\n    <tr>\n      <th>2</th>\n      <td>29</td>\n      <td>1</td>\n      <td>2</td>\n      <td>140</td>\n      <td>?</td>\n      <td>0</td>\n      <td>0</td>\n      <td>170</td>\n      <td>0</td>\n      <td>0.0</td>\n      <td>?</td>\n      <td>?</td>\n      <td>?</td>\n      <td>0</td>\n    </tr>\n    <tr>\n      <th>3</th>\n      <td>30</td>\n      <td>0</td>\n      <td>1</td>\n      <td>170</td>\n      <td>237</td>\n      <td>0</td>\n      <td>1</td>\n      <td>170</td>\n      <td>0</td>\n      <td>0.0</td>\n      <td>?</td>\n      <td>?</td>\n      <td>6</td>\n      <td>0</td>\n    </tr>\n    <tr>\n      <th>4</th>\n      <td>31</td>\n      <td>0</td>\n      <td>2</td>\n      <td>100</td>\n      <td>219</td>\n      <td>0</td>\n      <td>1</td>\n      <td>150</td>\n      <td>0</td>\n      <td>0.0</td>\n      <td>?</td>\n      <td>?</td>\n      <td>?</td>\n      <td>0</td>\n    </tr>\n  </tbody>\n</table>\n</div>"
     },
     "metadata": {},
     "output_type": "execute_result",
     "execution_count": 172
    }
   ],
   "source": [
    "\n",
    "from sklearn import svm, metrics\n",
    "from sklearn.model_selection import train_test_split\n",
    "import pandas as pd\n",
    "import numpy as np\n",
    "\n",
    "data = pd.read_csv(\"processed.hungarian.data\", header=None, names=['age','sex',\"cp\", \"trestbps\", \"chol\", \"fbs\", \n",
    "                                                                   \"restecg\", \"thalach\", \"exang\", \"oldpeak\", \"slope\", \n",
    "                                                                   \"ca\" , \"thal\", \"num\"])\n",
    "\n",
    "data.head()\n",
    "\n"
   ]
  },
  {
   "cell_type": "code",
   "execution_count": 173,
   "outputs": [
    {
     "name": "stdout",
     "text": [
      "[90, 90, 90, 268]\n"
     ],
     "output_type": "stream"
    },
    {
     "data": {
      "text/plain": "   age  sex  cp trestbps restecg thalach exang  oldpeak  num\n0   28    1   2      130       2     185     0      0.0    0\n1   29    1   2      120       0     160     0      0.0    0\n2   29    1   2      140       0     170     0      0.0    0\n3   30    0   1      170       1     170     0      0.0    0\n4   31    0   2      100       1     150     0      0.0    0",
      "text/html": "<div>\n<style scoped>\n    .dataframe tbody tr th:only-of-type {\n        vertical-align: middle;\n    }\n\n    .dataframe tbody tr th {\n        vertical-align: top;\n    }\n\n    .dataframe thead th {\n        text-align: right;\n    }\n</style>\n<table border=\"1\" class=\"dataframe\">\n  <thead>\n    <tr style=\"text-align: right;\">\n      <th></th>\n      <th>age</th>\n      <th>sex</th>\n      <th>cp</th>\n      <th>trestbps</th>\n      <th>restecg</th>\n      <th>thalach</th>\n      <th>exang</th>\n      <th>oldpeak</th>\n      <th>num</th>\n    </tr>\n  </thead>\n  <tbody>\n    <tr>\n      <th>0</th>\n      <td>28</td>\n      <td>1</td>\n      <td>2</td>\n      <td>130</td>\n      <td>2</td>\n      <td>185</td>\n      <td>0</td>\n      <td>0.0</td>\n      <td>0</td>\n    </tr>\n    <tr>\n      <th>1</th>\n      <td>29</td>\n      <td>1</td>\n      <td>2</td>\n      <td>120</td>\n      <td>0</td>\n      <td>160</td>\n      <td>0</td>\n      <td>0.0</td>\n      <td>0</td>\n    </tr>\n    <tr>\n      <th>2</th>\n      <td>29</td>\n      <td>1</td>\n      <td>2</td>\n      <td>140</td>\n      <td>0</td>\n      <td>170</td>\n      <td>0</td>\n      <td>0.0</td>\n      <td>0</td>\n    </tr>\n    <tr>\n      <th>3</th>\n      <td>30</td>\n      <td>0</td>\n      <td>1</td>\n      <td>170</td>\n      <td>1</td>\n      <td>170</td>\n      <td>0</td>\n      <td>0.0</td>\n      <td>0</td>\n    </tr>\n    <tr>\n      <th>4</th>\n      <td>31</td>\n      <td>0</td>\n      <td>2</td>\n      <td>100</td>\n      <td>1</td>\n      <td>150</td>\n      <td>0</td>\n      <td>0.0</td>\n      <td>0</td>\n    </tr>\n  </tbody>\n</table>\n</div>"
     },
     "metadata": {},
     "output_type": "execute_result",
     "execution_count": 173
    }
   ],
   "source": [
    "X_features = data.drop(columns=['thal','ca', 'slope','chol', 'fbs'], axis=1)\n",
    "X_features.head(5)\n",
    "\n",
    "index_list = []\n",
    "\n",
    "for index1,line in enumerate(X_features.values):\n",
    "    for index2, value in enumerate(line):\n",
    "        if value == '?':\n",
    "            index_list.append(index1)\n",
    "\n",
    "print(index_list)\n",
    "X_features = X_features.drop(index=index_list, axis=1)\n",
    "X_features.head()"
   ],
   "metadata": {
    "collapsed": false,
    "pycharm": {
     "name": "#%%\n",
     "is_executing": false
    }
   }
  },
  {
   "cell_type": "code",
   "execution_count": 174,
   "outputs": [
    {
     "data": {
      "text/plain": "0    0\n1    0\n2    0\n3    0\n4    0\nName: num, dtype: int64"
     },
     "metadata": {},
     "output_type": "execute_result",
     "execution_count": 174
    }
   ],
   "source": [
    "Y_Target = X_features['num']\n",
    "\n",
    "Y_Target.head()\n",
    "\n",
    "\n",
    "\n"
   ],
   "metadata": {
    "collapsed": false,
    "pycharm": {
     "name": "#%%\n",
     "is_executing": false
    }
   }
  },
  {
   "cell_type": "code",
   "execution_count": 175,
   "outputs": [
    {
     "name": "stdout",
     "text": [
      "Accuracy: 0.67 (+/- 0.12)\n"
     ],
     "output_type": "stream"
    },
    {
     "name": "stderr",
     "text": [
      "d:\\python\\python37-32\\lib\\site-packages\\ipykernel_launcher.py:2: FutureWarning: Method .as_matrix will be removed in a future version. Use .values instead.\n  \n"
     ],
     "output_type": "stream"
    }
   ],
   "source": [
    "X_train, X_test, Y_train, Y_test = train_test_split(X_features.as_matrix(), Y_Target.as_matrix(), test_size=0.1, train_size=0.9, shuffle=True)\n",
    "\n",
    "\n",
    "\n",
    "classifier = svm.SVC(gamma=0.001)\n",
    "classifier.fit(X_train,Y_train)\n",
    "\n",
    "from sklearn.model_selection import cross_val_score\n",
    "\n",
    "scores = cross_val_score(classifier, X_features, Y_Target, cv=5)\n",
    "print(\"Accuracy: %0.2f (+/- %0.2f)\" % (scores.mean(), scores.std() * 2))\n"
   ],
   "metadata": {
    "collapsed": false,
    "pycharm": {
     "name": "#%%\n",
     "is_executing": false
    }
   }
  },
  {
   "cell_type": "code",
   "execution_count": 176,
   "outputs": [
    {
     "data": {
      "text/plain": "array([1, 1, 1, 0, 0, 1, 0, 0, 0, 0, 0, 0, 1, 0, 1, 0, 0, 0, 1, 0, 0, 0,\n       1, 0, 0, 1, 0, 0, 1, 1], dtype=int64)"
     },
     "metadata": {},
     "output_type": "execute_result",
     "execution_count": 176
    }
   ],
   "source": [
    "prediction = classifier.predict(X_test)\n",
    "Y_test\n",
    "# print(prediction)\n",
    "# for index, (prediction, Y_test) in enumerate(list(zip(prediction,Y_test))):\n",
    "#     if prediction == Y_test:\n",
    "#         print(f\"Success {index}: Prediction:{prediction} Result:{Y_test}\")\n",
    "#     else:\n",
    "#         print(f\"Failure {index}: Prediction:{prediction} Result:{Y_test}\")\n"
   ],
   "metadata": {
    "collapsed": false,
    "pycharm": {
     "name": "#%%\n",
     "is_executing": false
    }
   }
  },
  {
   "cell_type": "code",
   "execution_count": 177,
   "outputs": [
    {
     "name": "stdout",
     "text": [
      "              precision    recall  f1-score   support\n\n           0       0.89      0.63      0.74        27\n           1       0.09      0.33      0.14         3\n\n    accuracy                           0.60        30\n   macro avg       0.49      0.48      0.44        30\nweighted avg       0.81      0.60      0.68        30\n\nConfusion matrix:\n[[17 10]\n [ 2  1]]\n"
     ],
     "output_type": "stream"
    }
   ],
   "source": [
    "\n",
    "print(metrics.classification_report(prediction, Y_test))\n",
    "print(\"Confusion matrix:\\n%s\" % metrics.confusion_matrix(prediction, Y_test))\n",
    "\n"
   ],
   "metadata": {
    "collapsed": false,
    "pycharm": {
     "name": "#%%\n",
     "is_executing": false
    }
   }
  },
  {
   "cell_type": "markdown",
   "source": [
    "This time I will standardise the X and Y data, to see if performance increases"
   ],
   "metadata": {
    "collapsed": false,
    "pycharm": {
     "name": "#%% md\n"
    }
   }
  },
  {
   "cell_type": "code",
   "execution_count": 178,
   "outputs": [
    {
     "data": {
      "text/plain": "   age  sex  cp trestbps chol fbs restecg thalach exang  oldpeak slope ca  \\\n0   28    1   2      130  132   0       2     185     0      0.0     ?  ?   \n1   29    1   2      120  243   0       0     160     0      0.0     ?  ?   \n2   29    1   2      140    ?   0       0     170     0      0.0     ?  ?   \n3   30    0   1      170  237   0       1     170     0      0.0     ?  ?   \n4   31    0   2      100  219   0       1     150     0      0.0     ?  ?   \n\n  thal  num  \n0    ?    0  \n1    ?    0  \n2    ?    0  \n3    6    0  \n4    ?    0  ",
      "text/html": "<div>\n<style scoped>\n    .dataframe tbody tr th:only-of-type {\n        vertical-align: middle;\n    }\n\n    .dataframe tbody tr th {\n        vertical-align: top;\n    }\n\n    .dataframe thead th {\n        text-align: right;\n    }\n</style>\n<table border=\"1\" class=\"dataframe\">\n  <thead>\n    <tr style=\"text-align: right;\">\n      <th></th>\n      <th>age</th>\n      <th>sex</th>\n      <th>cp</th>\n      <th>trestbps</th>\n      <th>chol</th>\n      <th>fbs</th>\n      <th>restecg</th>\n      <th>thalach</th>\n      <th>exang</th>\n      <th>oldpeak</th>\n      <th>slope</th>\n      <th>ca</th>\n      <th>thal</th>\n      <th>num</th>\n    </tr>\n  </thead>\n  <tbody>\n    <tr>\n      <th>0</th>\n      <td>28</td>\n      <td>1</td>\n      <td>2</td>\n      <td>130</td>\n      <td>132</td>\n      <td>0</td>\n      <td>2</td>\n      <td>185</td>\n      <td>0</td>\n      <td>0.0</td>\n      <td>?</td>\n      <td>?</td>\n      <td>?</td>\n      <td>0</td>\n    </tr>\n    <tr>\n      <th>1</th>\n      <td>29</td>\n      <td>1</td>\n      <td>2</td>\n      <td>120</td>\n      <td>243</td>\n      <td>0</td>\n      <td>0</td>\n      <td>160</td>\n      <td>0</td>\n      <td>0.0</td>\n      <td>?</td>\n      <td>?</td>\n      <td>?</td>\n      <td>0</td>\n    </tr>\n    <tr>\n      <th>2</th>\n      <td>29</td>\n      <td>1</td>\n      <td>2</td>\n      <td>140</td>\n      <td>?</td>\n      <td>0</td>\n      <td>0</td>\n      <td>170</td>\n      <td>0</td>\n      <td>0.0</td>\n      <td>?</td>\n      <td>?</td>\n      <td>?</td>\n      <td>0</td>\n    </tr>\n    <tr>\n      <th>3</th>\n      <td>30</td>\n      <td>0</td>\n      <td>1</td>\n      <td>170</td>\n      <td>237</td>\n      <td>0</td>\n      <td>1</td>\n      <td>170</td>\n      <td>0</td>\n      <td>0.0</td>\n      <td>?</td>\n      <td>?</td>\n      <td>6</td>\n      <td>0</td>\n    </tr>\n    <tr>\n      <th>4</th>\n      <td>31</td>\n      <td>0</td>\n      <td>2</td>\n      <td>100</td>\n      <td>219</td>\n      <td>0</td>\n      <td>1</td>\n      <td>150</td>\n      <td>0</td>\n      <td>0.0</td>\n      <td>?</td>\n      <td>?</td>\n      <td>?</td>\n      <td>0</td>\n    </tr>\n  </tbody>\n</table>\n</div>"
     },
     "metadata": {},
     "output_type": "execute_result",
     "execution_count": 178
    }
   ],
   "source": [
    "data = pd.read_csv(\"processed.hungarian.data\", header=None, names=['age','sex',\"cp\", \"trestbps\", \"chol\", \"fbs\", \n",
    "                                                                   \"restecg\", \"thalach\", \"exang\", \"oldpeak\", \"slope\", \n",
    "                                                                   \"ca\" , \"thal\", \"num\"])\n",
    "\n",
    "data.head()"
   ],
   "metadata": {
    "collapsed": false,
    "pycharm": {
     "name": "#%%\n",
     "is_executing": false
    }
   }
  },
  {
   "cell_type": "code",
   "execution_count": 179,
   "outputs": [],
   "source": [
    "from sklearn import preprocessing\n",
    "\n",
    "X_features = data.drop(columns=['thal','ca', 'slope','chol', 'fbs'], axis=1)\n",
    "X_features.head(5)\n",
    "\n",
    "index_list = []\n",
    "\n",
    "for index1,line in enumerate(X_features.values):\n",
    "    for index2, value in enumerate(line):\n",
    "        if value == '?':\n",
    "            index_list.append(index1)\n",
    "\n",
    "\n",
    "X_features = X_features.drop(index=index_list, axis=1)\n",
    "Y_Target = X_features['num']\n",
    "\n",
    "\n"
   ],
   "metadata": {
    "collapsed": false,
    "pycharm": {
     "name": "#%%\n",
     "is_executing": false
    }
   }
  },
  {
   "cell_type": "code",
   "execution_count": 180,
   "outputs": [],
   "source": [
    "X_features = preprocessing.scale(X_features)\n",
    "\n"
   ],
   "metadata": {
    "collapsed": false,
    "pycharm": {
     "name": "#%%\n",
     "is_executing": false
    }
   }
  },
  {
   "cell_type": "code",
   "execution_count": 181,
   "outputs": [
    {
     "data": {
      "text/plain": "            0    1         2         3    4         5    6    7    8\n282  0.552632  1.0  1.000000  0.333333  0.0  0.129630  1.0  0.0  1.0\n283  0.552632  1.0  1.000000  0.537037  0.0  0.370370  0.0  0.4  1.0\n284  0.578947  1.0  1.000000  0.444444  0.5  0.537037  1.0  1.0  1.0\n285  0.578947  1.0  1.000000  0.444444  0.5  0.398148  1.0  0.5  1.0\n286  0.631579  1.0  1.000000  0.444444  0.0  0.481481  1.0  0.4  1.0\n287  0.631579  1.0  1.000000  0.629630  0.0  0.111111  1.0  0.5  1.0\n288  0.684211  0.0  0.666667  0.351852  0.5  0.166667  1.0  0.0  1.0\n289  0.736842  1.0  1.000000  0.583333  0.0  0.629630  1.0  0.6  1.0\n290  0.789474  0.0  0.333333  0.814815  0.0  0.259259  1.0  0.2  1.0\n291  0.973684  1.0  1.000000  0.351852  0.5  0.305556  1.0  0.2  1.0",
      "text/html": "<div>\n<style scoped>\n    .dataframe tbody tr th:only-of-type {\n        vertical-align: middle;\n    }\n\n    .dataframe tbody tr th {\n        vertical-align: top;\n    }\n\n    .dataframe thead th {\n        text-align: right;\n    }\n</style>\n<table border=\"1\" class=\"dataframe\">\n  <thead>\n    <tr style=\"text-align: right;\">\n      <th></th>\n      <th>0</th>\n      <th>1</th>\n      <th>2</th>\n      <th>3</th>\n      <th>4</th>\n      <th>5</th>\n      <th>6</th>\n      <th>7</th>\n      <th>8</th>\n    </tr>\n  </thead>\n  <tbody>\n    <tr>\n      <th>282</th>\n      <td>0.552632</td>\n      <td>1.0</td>\n      <td>1.000000</td>\n      <td>0.333333</td>\n      <td>0.0</td>\n      <td>0.129630</td>\n      <td>1.0</td>\n      <td>0.0</td>\n      <td>1.0</td>\n    </tr>\n    <tr>\n      <th>283</th>\n      <td>0.552632</td>\n      <td>1.0</td>\n      <td>1.000000</td>\n      <td>0.537037</td>\n      <td>0.0</td>\n      <td>0.370370</td>\n      <td>0.0</td>\n      <td>0.4</td>\n      <td>1.0</td>\n    </tr>\n    <tr>\n      <th>284</th>\n      <td>0.578947</td>\n      <td>1.0</td>\n      <td>1.000000</td>\n      <td>0.444444</td>\n      <td>0.5</td>\n      <td>0.537037</td>\n      <td>1.0</td>\n      <td>1.0</td>\n      <td>1.0</td>\n    </tr>\n    <tr>\n      <th>285</th>\n      <td>0.578947</td>\n      <td>1.0</td>\n      <td>1.000000</td>\n      <td>0.444444</td>\n      <td>0.5</td>\n      <td>0.398148</td>\n      <td>1.0</td>\n      <td>0.5</td>\n      <td>1.0</td>\n    </tr>\n    <tr>\n      <th>286</th>\n      <td>0.631579</td>\n      <td>1.0</td>\n      <td>1.000000</td>\n      <td>0.444444</td>\n      <td>0.0</td>\n      <td>0.481481</td>\n      <td>1.0</td>\n      <td>0.4</td>\n      <td>1.0</td>\n    </tr>\n    <tr>\n      <th>287</th>\n      <td>0.631579</td>\n      <td>1.0</td>\n      <td>1.000000</td>\n      <td>0.629630</td>\n      <td>0.0</td>\n      <td>0.111111</td>\n      <td>1.0</td>\n      <td>0.5</td>\n      <td>1.0</td>\n    </tr>\n    <tr>\n      <th>288</th>\n      <td>0.684211</td>\n      <td>0.0</td>\n      <td>0.666667</td>\n      <td>0.351852</td>\n      <td>0.5</td>\n      <td>0.166667</td>\n      <td>1.0</td>\n      <td>0.0</td>\n      <td>1.0</td>\n    </tr>\n    <tr>\n      <th>289</th>\n      <td>0.736842</td>\n      <td>1.0</td>\n      <td>1.000000</td>\n      <td>0.583333</td>\n      <td>0.0</td>\n      <td>0.629630</td>\n      <td>1.0</td>\n      <td>0.6</td>\n      <td>1.0</td>\n    </tr>\n    <tr>\n      <th>290</th>\n      <td>0.789474</td>\n      <td>0.0</td>\n      <td>0.333333</td>\n      <td>0.814815</td>\n      <td>0.0</td>\n      <td>0.259259</td>\n      <td>1.0</td>\n      <td>0.2</td>\n      <td>1.0</td>\n    </tr>\n    <tr>\n      <th>291</th>\n      <td>0.973684</td>\n      <td>1.0</td>\n      <td>1.000000</td>\n      <td>0.351852</td>\n      <td>0.5</td>\n      <td>0.305556</td>\n      <td>1.0</td>\n      <td>0.2</td>\n      <td>1.0</td>\n    </tr>\n  </tbody>\n</table>\n</div>"
     },
     "metadata": {},
     "output_type": "execute_result",
     "execution_count": 181
    }
   ],
   "source": [
    "# X_features = preprocessing.scale(X_features)\n",
    "min_max_scaler = preprocessing.MinMaxScaler()\n",
    "X_features = min_max_scaler.fit_transform(X_features)\n",
    "\n",
    "X_features = pd.DataFrame(X_features)\n",
    "X_features.tail(10)"
   ],
   "metadata": {
    "collapsed": false,
    "pycharm": {
     "name": "#%%\n",
     "is_executing": false
    }
   }
  },
  {
   "cell_type": "code",
   "execution_count": 182,
   "outputs": [],
   "source": [
    "# Y_Target = preprocessing.scale(Y_Target)\n",
    "# Y_Target = pd.DataFrame(Y_Target)\n",
    "\n",
    "\n",
    "\n",
    "# Y_Target.tail(10)\n",
    "\n"
   ],
   "metadata": {
    "collapsed": false,
    "pycharm": {
     "name": "#%%\n",
     "is_executing": false
    }
   }
  },
  {
   "cell_type": "code",
   "execution_count": 183,
   "outputs": [],
   "source": [
    "from sklearn import utils\n",
    "\n",
    "X_train, X_test, Y_train, Y_test = train_test_split(X_features, Y_Target, test_size=0.1, train_size=0.9, shuffle=True)\n"
   ],
   "metadata": {
    "collapsed": false,
    "pycharm": {
     "name": "#%%\n",
     "is_executing": false
    }
   }
  },
  {
   "cell_type": "code",
   "execution_count": 184,
   "outputs": [
    {
     "name": "stdout",
     "text": [
      "Accuracy: 0.64 (+/- 0.01)\n"
     ],
     "output_type": "stream"
    }
   ],
   "source": [
    "\n",
    "classifier = svm.SVC(gamma=0.001)\n",
    "classifier.fit(X_train,Y_train)\n",
    "\n",
    "\n",
    "from sklearn.model_selection import cross_val_score\n",
    "\n",
    "scores = cross_val_score(classifier, X_features, Y_Target, cv=5)\n",
    "print(\"Accuracy: %0.2f (+/- %0.2f)\" % (scores.mean(), scores.std() * 2))"
   ],
   "metadata": {
    "collapsed": false,
    "pycharm": {
     "name": "#%%\n",
     "is_executing": false
    }
   }
  },
  {
   "cell_type": "code",
   "execution_count": 185,
   "outputs": [
    {
     "name": "stdout",
     "text": [
      "              precision    recall  f1-score   support\n\n           0       1.00      0.53      0.70        30\n           1       0.00      0.00      0.00         0\n\n    accuracy                           0.53        30\n   macro avg       0.50      0.27      0.35        30\nweighted avg       1.00      0.53      0.70        30\n\nConfusion matrix:\n[[16 14]\n [ 0  0]]\n"
     ],
     "output_type": "stream"
    },
    {
     "name": "stderr",
     "text": [
      "d:\\python\\python37-32\\lib\\site-packages\\sklearn\\metrics\\classification.py:1439: UndefinedMetricWarning: Recall and F-score are ill-defined and being set to 0.0 in labels with no true samples.\n  'recall', 'true', average, warn_for)\n"
     ],
     "output_type": "stream"
    }
   ],
   "source": [
    "\n",
    "prediction = classifier.predict(X_test)\n",
    "\n",
    "# print(prediction)\n",
    "# for index, (prediction, Y_test) in enumerate(list(zip(prediction,Y_test))):\n",
    "#     if prediction == Y_test:\n",
    "#         print(f\"Success {index}: Prediction:{prediction} Result:{Y_test}\")\n",
    "#     else:\n",
    "#         print(f\"Failure {index}: Prediction:{prediction} Result:{Y_test}\")\n",
    "print(metrics.classification_report(prediction, Y_test))\n",
    "print(\"Confusion matrix:\\n%s\" % metrics.confusion_matrix(prediction, Y_test))\n",
    "\n",
    "\n"
   ],
   "metadata": {
    "collapsed": false,
    "pycharm": {
     "name": "#%%\n",
     "is_executing": false
    }
   }
  },
  {
   "cell_type": "markdown",
   "source": [
    "preprocessing the X data has proven in this instance to reduce accuracy by at least 10%. \n",
    "\n",
    "\n"
   ],
   "metadata": {
    "collapsed": false,
    "pycharm": {
     "name": "#%% md\n",
     "is_executing": false
    }
   }
  }
 ],
 "metadata": {
  "kernelspec": {
   "display_name": "Python 3",
   "language": "python",
   "name": "python3"
  },
  "language_info": {
   "codemirror_mode": {
    "name": "ipython",
    "version": 2
   },
   "file_extension": ".py",
   "mimetype": "text/x-python",
   "name": "python",
   "nbconvert_exporter": "python",
   "pygments_lexer": "ipython2",
   "version": "2.7.6"
  },
  "pycharm": {
   "stem_cell": {
    "cell_type": "raw",
    "source": [],
    "metadata": {
     "collapsed": false
    }
   }
  }
 },
 "nbformat": 4,
 "nbformat_minor": 0
}