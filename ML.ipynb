{
 "cells": [
  {
   "cell_type": "code",
   "execution_count": 5,
   "metadata": {},
   "outputs": [
    {
     "name": "stdout",
     "output_type": "stream",
     "text": [
      "            Adj. Close    HL_PCT  PCT_Change  Adj. Volume\nDate                                                     \n2004-08-19   50.322842  3.712563    0.324968   44659000.0\n2004-08-20   54.322689  0.710922    7.227007   22834300.0\n2004-08-23   54.869377  3.729433   -1.227880   18256100.0\n2004-08-24   52.597363  6.417469   -5.726357   15247300.0\n2004-08-25   53.164113  1.886792    1.183658    9188600.0\n"
     ]
    }
   ],
   "source": [
    "import pandas as pd\n",
    "# import Quandl\n",
    "import quandl\n",
    "\n",
    "df = quandl.get('WIKI/GOOGL')\n",
    "df = df[['Adj. Open', 'Adj. High', 'Adj. Low', 'Adj. Close', 'Adj. Volume']]\n",
    "df['HL_PCT'] = (df['Adj. High'] - df['Adj. Close'])/ df['Adj. Close'] * 100\n",
    "df['PCT_Change'] = (df['Adj. Close'] - df['Adj. Open'])/ df['Adj. Open'] * 100\n",
    "\n",
    "\n",
    "df = df[['Adj. Close', 'HL_PCT', 'PCT_Change', 'Adj. Volume']]\n",
    "\n",
    "print(df.head())"
   ]
  },
  {
   "cell_type": "code",
   "execution_count": null,
   "metadata": {},
   "outputs": [],
   "source": []
  }
 ],
 "metadata": {
  "kernelspec": {
   "display_name": "Python 3",
   "language": "python",
   "name": "python3"
  },
  "language_info": {
   "codemirror_mode": {
    "name": "ipython",
    "version": 3
   },
   "file_extension": ".py",
   "mimetype": "text/x-python",
   "name": "python",
   "nbconvert_exporter": "python",
   "pygments_lexer": "ipython3",
   "version": "3.7.2"
  }
 },
 "nbformat": 4,
 "nbformat_minor": 2
}
